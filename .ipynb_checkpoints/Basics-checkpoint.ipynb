{
 "cells": [
  {
   "cell_type": "code",
   "execution_count": 2,
   "metadata": {
    "collapsed": false
   },
   "outputs": [
    {
     "data": {
      "text/plain": [
       "'Connected: None@chinook.db'"
      ]
     },
     "execution_count": 2,
     "metadata": {},
     "output_type": "execute_result"
    }
   ],
   "source": [
    "%%capture\n",
    "%load_ext sql\n",
    "%sql sqlite:///chinook.db"
   ]
  },
  {
   "cell_type": "code",
   "execution_count": 2,
   "metadata": {
    "collapsed": false
   },
   "outputs": [
    {
     "name": "stdout",
     "output_type": "stream",
     "text": [
      "Done.\n"
     ]
    },
    {
     "data": {
      "text/html": [
       "<table>\n",
       "    <tr>\n",
       "        <th>name</th>\n",
       "        <th>type</th>\n",
       "    </tr>\n",
       "    <tr>\n",
       "        <td>album</td>\n",
       "        <td>table</td>\n",
       "    </tr>\n",
       "    <tr>\n",
       "        <td>artist</td>\n",
       "        <td>table</td>\n",
       "    </tr>\n",
       "    <tr>\n",
       "        <td>customer</td>\n",
       "        <td>table</td>\n",
       "    </tr>\n",
       "    <tr>\n",
       "        <td>employee</td>\n",
       "        <td>table</td>\n",
       "    </tr>\n",
       "    <tr>\n",
       "        <td>genre</td>\n",
       "        <td>table</td>\n",
       "    </tr>\n",
       "    <tr>\n",
       "        <td>invoice</td>\n",
       "        <td>table</td>\n",
       "    </tr>\n",
       "    <tr>\n",
       "        <td>invoice_line</td>\n",
       "        <td>table</td>\n",
       "    </tr>\n",
       "    <tr>\n",
       "        <td>media_type</td>\n",
       "        <td>table</td>\n",
       "    </tr>\n",
       "    <tr>\n",
       "        <td>playlist</td>\n",
       "        <td>table</td>\n",
       "    </tr>\n",
       "    <tr>\n",
       "        <td>playlist_track</td>\n",
       "        <td>table</td>\n",
       "    </tr>\n",
       "    <tr>\n",
       "        <td>track</td>\n",
       "        <td>table</td>\n",
       "    </tr>\n",
       "</table>"
      ],
      "text/plain": [
       "[('album', 'table'),\n",
       " ('artist', 'table'),\n",
       " ('customer', 'table'),\n",
       " ('employee', 'table'),\n",
       " ('genre', 'table'),\n",
       " ('invoice', 'table'),\n",
       " ('invoice_line', 'table'),\n",
       " ('media_type', 'table'),\n",
       " ('playlist', 'table'),\n",
       " ('playlist_track', 'table'),\n",
       " ('track', 'table')]"
      ]
     },
     "execution_count": 2,
     "metadata": {},
     "output_type": "execute_result"
    }
   ],
   "source": [
    "%%sql\n",
    "SELECT\n",
    "    name,\n",
    "    type\n",
    "FROM sqlite_master\n",
    "WHERE type IN (\"table\",\"view\");"
   ]
  },
  {
   "cell_type": "markdown",
   "metadata": {},
   "source": [
    "## USA | most popular genres\n",
    "- absolute number of tracks sold to buyers from the USA\n",
    "- share of buyers from the USA of all purchased tracks"
   ]
  },
  {
   "cell_type": "code",
   "execution_count": 25,
   "metadata": {
    "collapsed": false
   },
   "outputs": [
    {
     "name": "stdout",
     "output_type": "stream",
     "text": [
      "Done.\n"
     ]
    },
    {
     "data": {
      "text/html": [
       "<table>\n",
       "    <tr>\n",
       "        <th>genre_name</th>\n",
       "        <th>tracks_sold_usa</th>\n",
       "        <th>tracks_sold_usa_pct</th>\n",
       "        <th>usa_customers_pct</th>\n",
       "    </tr>\n",
       "    <tr>\n",
       "        <td>Rock</td>\n",
       "        <td>561</td>\n",
       "        <td>0.5338</td>\n",
       "        <td>21.3</td>\n",
       "    </tr>\n",
       "    <tr>\n",
       "        <td>Alternative &amp; Punk</td>\n",
       "        <td>130</td>\n",
       "        <td>0.1237</td>\n",
       "        <td>26.4</td>\n",
       "    </tr>\n",
       "    <tr>\n",
       "        <td>Metal</td>\n",
       "        <td>124</td>\n",
       "        <td>0.118</td>\n",
       "        <td>20.0</td>\n",
       "    </tr>\n",
       "    <tr>\n",
       "        <td>R&amp;B/Soul</td>\n",
       "        <td>53</td>\n",
       "        <td>0.0504</td>\n",
       "        <td>33.3</td>\n",
       "    </tr>\n",
       "    <tr>\n",
       "        <td>Blues</td>\n",
       "        <td>36</td>\n",
       "        <td>0.0343</td>\n",
       "        <td>29.0</td>\n",
       "    </tr>\n",
       "    <tr>\n",
       "        <td>Alternative</td>\n",
       "        <td>35</td>\n",
       "        <td>0.0333</td>\n",
       "        <td>29.9</td>\n",
       "    </tr>\n",
       "    <tr>\n",
       "        <td>Latin</td>\n",
       "        <td>22</td>\n",
       "        <td>0.0209</td>\n",
       "        <td>13.2</td>\n",
       "    </tr>\n",
       "    <tr>\n",
       "        <td>Pop</td>\n",
       "        <td>22</td>\n",
       "        <td>0.0209</td>\n",
       "        <td>34.9</td>\n",
       "    </tr>\n",
       "    <tr>\n",
       "        <td>Hip Hop/Rap</td>\n",
       "        <td>20</td>\n",
       "        <td>0.019</td>\n",
       "        <td>60.6</td>\n",
       "    </tr>\n",
       "    <tr>\n",
       "        <td>Jazz</td>\n",
       "        <td>14</td>\n",
       "        <td>0.0133</td>\n",
       "        <td>11.6</td>\n",
       "    </tr>\n",
       "    <tr>\n",
       "        <td>Easy Listening</td>\n",
       "        <td>13</td>\n",
       "        <td>0.0124</td>\n",
       "        <td>17.6</td>\n",
       "    </tr>\n",
       "    <tr>\n",
       "        <td>Reggae</td>\n",
       "        <td>6</td>\n",
       "        <td>0.0057</td>\n",
       "        <td>17.1</td>\n",
       "    </tr>\n",
       "    <tr>\n",
       "        <td>Electronica/Dance</td>\n",
       "        <td>5</td>\n",
       "        <td>0.0048</td>\n",
       "        <td>9.1</td>\n",
       "    </tr>\n",
       "    <tr>\n",
       "        <td>Classical</td>\n",
       "        <td>4</td>\n",
       "        <td>0.0038</td>\n",
       "        <td>8.5</td>\n",
       "    </tr>\n",
       "    <tr>\n",
       "        <td>Heavy Metal</td>\n",
       "        <td>3</td>\n",
       "        <td>0.0029</td>\n",
       "        <td>37.5</td>\n",
       "    </tr>\n",
       "    <tr>\n",
       "        <td>Soundtrack</td>\n",
       "        <td>2</td>\n",
       "        <td>0.0019</td>\n",
       "        <td>40.0</td>\n",
       "    </tr>\n",
       "    <tr>\n",
       "        <td>TV Shows</td>\n",
       "        <td>1</td>\n",
       "        <td>0.001</td>\n",
       "        <td>50.0</td>\n",
       "    </tr>\n",
       "</table>"
      ],
      "text/plain": [
       "[('Rock', 561, 0.5338, 21.3),\n",
       " ('Alternative & Punk', 130, 0.1237, 26.4),\n",
       " ('Metal', 124, 0.118, 20.0),\n",
       " ('R&B/Soul', 53, 0.0504, 33.3),\n",
       " ('Blues', 36, 0.0343, 29.0),\n",
       " ('Alternative', 35, 0.0333, 29.9),\n",
       " ('Latin', 22, 0.0209, 13.2),\n",
       " ('Pop', 22, 0.0209, 34.9),\n",
       " ('Hip Hop/Rap', 20, 0.019, 60.6),\n",
       " ('Jazz', 14, 0.0133, 11.6),\n",
       " ('Easy Listening', 13, 0.0124, 17.6),\n",
       " ('Reggae', 6, 0.0057, 17.1),\n",
       " ('Electronica/Dance', 5, 0.0048, 9.1),\n",
       " ('Classical', 4, 0.0038, 8.5),\n",
       " ('Heavy Metal', 3, 0.0029, 37.5),\n",
       " ('Soundtrack', 2, 0.0019, 40.0),\n",
       " ('TV Shows', 1, 0.001, 50.0)]"
      ]
     },
     "execution_count": 25,
     "metadata": {},
     "output_type": "execute_result"
    }
   ],
   "source": [
    "%%sql\n",
    "WITH \n",
    "invoice_line_genre_customer AS (\n",
    "    SELECT \n",
    "        il.invoice_line_id,\n",
    "        il.track_id,\n",
    "        g.genre_id, \n",
    "        g.name genre_name, \n",
    "        c.country customer_country\n",
    "    FROM invoice_line il\n",
    "    INNER JOIN track t ON t.track_id = il.track_id\n",
    "    INNER JOIN genre g ON g.genre_id = t.genre_id\n",
    "    INNER JOIN invoice i ON i.invoice_id = il.invoice_id\n",
    "    INNER JOIN customer c ON c.customer_id = i.customer_id\n",
    "),\n",
    "genre_tracks_sold AS (\n",
    "    SELECT \n",
    "        ilg.genre_id,\n",
    "        ilg.genre_name, \n",
    "        COUNT(ilg.invoice_line_id) tracks_sold\n",
    "    FROM invoice_line_genre_customer ilg\n",
    "    GROUP BY ilg.genre_id, ilg.genre_name\n",
    "),\n",
    "genre_tracks_sold_usa AS (\n",
    "    SELECT ilg.genre_id, ilg.genre_name, COUNT(ilg.invoice_line_id) tracks_sold_usa\n",
    "    FROM invoice_line_genre_customer ilg\n",
    "    WHERE ilg.customer_country = 'USA'\n",
    "    GROUP BY ilg.genre_id, ilg.genre_name\n",
    ")\n",
    "\n",
    "SELECT \n",
    "    usa.genre_name, \n",
    "    usa.tracks_sold_usa,\n",
    "    ROUND(CAST(usa.tracks_sold_usa AS FLOAT) / (\n",
    "            SELECT SUM(tracks_sold_usa) \n",
    "            FROM genre_tracks_sold_usa\n",
    "        ), 4) tracks_sold_usa_pct,\n",
    "    ROUND(CAST(usa.tracks_sold_usa AS FLOAT) * 100 / world.tracks_sold, 1) usa_customers_pct\n",
    "    \n",
    "FROM genre_tracks_sold_usa usa\n",
    "INNER JOIN genre_tracks_sold world ON world.genre_id = usa.genre_id\n",
    "GROUP BY 1\n",
    "ORDER BY tracks_sold_usa DESC"
   ]
  },
  {
   "cell_type": "markdown",
   "metadata": {
    "collapsed": true
   },
   "source": [
    "### Interpretation"
   ]
  },
  {
   "cell_type": "markdown",
   "metadata": {},
   "source": [
    "Of the new artist entries *Red Tone* should appeal to many Americans as the genre **Alternative & Punk** is one of the top-selling genres in the USA. The risk of most sales attributing to the *Alternative* in *Alternative & Punk* is mitigated by the fact that *Alternative* also exists as its own genre entry.\n",
    "\n",
    "More than every second **Hip Hop/Rap** track sold has a buyer from the USA (60.6%). *Hip Hop/Rap* tracks sold in the USA, however, make up only about 2% of all track sales which is only marginally less than *Pop* genre's sales with only 35% American buyers. *Regal* should therefore make an interesting addition to the store tailored to American buyers.\n",
    "\n",
    "About 60% more **Blues** tracks are sold to American buyers than *Hip Hop/Rap* and *Pop* tracks therefore *Slim Jim Bites* should be included in our store.\n",
    "\n",
    "**Pop** music neither has high sale numbers nor a high share of American buyers on our store which makes *Meteor and the Girls* the least favorable pick.\n",
    "\n",
    "**Recommended picks**\n",
    "1. *Red Tone*\n",
    "2. *Slim Jim Bites*\n",
    "3. *Regal*\n"
   ]
  },
  {
   "cell_type": "code",
   "execution_count": null,
   "metadata": {
    "collapsed": true
   },
   "outputs": [],
   "source": []
  }
 ],
 "metadata": {
  "kernelspec": {
   "display_name": "Python 3",
   "language": "python",
   "name": "python3"
  },
  "language_info": {
   "codemirror_mode": {
    "name": "ipython",
    "version": 3
   },
   "file_extension": ".py",
   "mimetype": "text/x-python",
   "name": "python",
   "nbconvert_exporter": "python",
   "pygments_lexer": "ipython3",
   "version": "3.4.3"
  }
 },
 "nbformat": 4,
 "nbformat_minor": 2
}
