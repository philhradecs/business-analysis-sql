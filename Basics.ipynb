{
 "cells": [
  {
   "cell_type": "code",
   "execution_count": 2,
   "metadata": {
    "collapsed": false
   },
   "outputs": [
    {
     "data": {
      "text/plain": [
       "'Connected: None@chinook.db'"
      ]
     },
     "execution_count": 2,
     "metadata": {},
     "output_type": "execute_result"
    }
   ],
   "source": [
    "%%capture\n",
    "%load_ext sql\n",
    "%sql sqlite:///chinook.db"
   ]
  },
  {
   "cell_type": "code",
   "execution_count": 3,
   "metadata": {
    "collapsed": false
   },
   "outputs": [
    {
     "name": "stdout",
     "output_type": "stream",
     "text": [
      "Done.\n"
     ]
    },
    {
     "data": {
      "text/html": [
       "<table>\n",
       "    <tr>\n",
       "        <th>name</th>\n",
       "        <th>type</th>\n",
       "    </tr>\n",
       "    <tr>\n",
       "        <td>album</td>\n",
       "        <td>table</td>\n",
       "    </tr>\n",
       "    <tr>\n",
       "        <td>artist</td>\n",
       "        <td>table</td>\n",
       "    </tr>\n",
       "    <tr>\n",
       "        <td>customer</td>\n",
       "        <td>table</td>\n",
       "    </tr>\n",
       "    <tr>\n",
       "        <td>employee</td>\n",
       "        <td>table</td>\n",
       "    </tr>\n",
       "    <tr>\n",
       "        <td>genre</td>\n",
       "        <td>table</td>\n",
       "    </tr>\n",
       "    <tr>\n",
       "        <td>invoice</td>\n",
       "        <td>table</td>\n",
       "    </tr>\n",
       "    <tr>\n",
       "        <td>invoice_line</td>\n",
       "        <td>table</td>\n",
       "    </tr>\n",
       "    <tr>\n",
       "        <td>media_type</td>\n",
       "        <td>table</td>\n",
       "    </tr>\n",
       "    <tr>\n",
       "        <td>playlist</td>\n",
       "        <td>table</td>\n",
       "    </tr>\n",
       "    <tr>\n",
       "        <td>playlist_track</td>\n",
       "        <td>table</td>\n",
       "    </tr>\n",
       "    <tr>\n",
       "        <td>track</td>\n",
       "        <td>table</td>\n",
       "    </tr>\n",
       "</table>"
      ],
      "text/plain": [
       "[('album', 'table'),\n",
       " ('artist', 'table'),\n",
       " ('customer', 'table'),\n",
       " ('employee', 'table'),\n",
       " ('genre', 'table'),\n",
       " ('invoice', 'table'),\n",
       " ('invoice_line', 'table'),\n",
       " ('media_type', 'table'),\n",
       " ('playlist', 'table'),\n",
       " ('playlist_track', 'table'),\n",
       " ('track', 'table')]"
      ]
     },
     "execution_count": 3,
     "metadata": {},
     "output_type": "execute_result"
    }
   ],
   "source": [
    "%%sql\n",
    "SELECT\n",
    "    name,\n",
    "    type\n",
    "FROM sqlite_master\n",
    "WHERE type IN (\"table\",\"view\");"
   ]
  },
  {
   "cell_type": "markdown",
   "metadata": {},
   "source": [
    "## USA | most popular genres\n",
    "- absolute number of tracks sold in the US\n",
    "- US purchases share of all purchases\n",
    "- US purchases share of genre purchases"
   ]
  },
  {
   "cell_type": "code",
   "execution_count": 6,
   "metadata": {
    "collapsed": false,
    "scrolled": true
   },
   "outputs": [
    {
     "name": "stdout",
     "output_type": "stream",
     "text": [
      "Done.\n"
     ]
    },
    {
     "data": {
      "text/html": [
       "<table>\n",
       "    <tr>\n",
       "        <th>genre_name</th>\n",
       "        <th>tracks_sold_usa</th>\n",
       "        <th>tracks_sold_usa_pct</th>\n",
       "        <th>tracks_sold_usa_genre_pct</th>\n",
       "    </tr>\n",
       "    <tr>\n",
       "        <td>Rock</td>\n",
       "        <td>561</td>\n",
       "        <td>53.38</td>\n",
       "        <td>21.3</td>\n",
       "    </tr>\n",
       "    <tr>\n",
       "        <td>Alternative &amp; Punk</td>\n",
       "        <td>130</td>\n",
       "        <td>12.37</td>\n",
       "        <td>26.4</td>\n",
       "    </tr>\n",
       "    <tr>\n",
       "        <td>Metal</td>\n",
       "        <td>124</td>\n",
       "        <td>11.8</td>\n",
       "        <td>20.0</td>\n",
       "    </tr>\n",
       "    <tr>\n",
       "        <td>R&amp;B/Soul</td>\n",
       "        <td>53</td>\n",
       "        <td>5.04</td>\n",
       "        <td>33.3</td>\n",
       "    </tr>\n",
       "    <tr>\n",
       "        <td>Blues</td>\n",
       "        <td>36</td>\n",
       "        <td>3.43</td>\n",
       "        <td>29.0</td>\n",
       "    </tr>\n",
       "    <tr>\n",
       "        <td>Alternative</td>\n",
       "        <td>35</td>\n",
       "        <td>3.33</td>\n",
       "        <td>29.9</td>\n",
       "    </tr>\n",
       "    <tr>\n",
       "        <td>Latin</td>\n",
       "        <td>22</td>\n",
       "        <td>2.09</td>\n",
       "        <td>13.2</td>\n",
       "    </tr>\n",
       "    <tr>\n",
       "        <td>Pop</td>\n",
       "        <td>22</td>\n",
       "        <td>2.09</td>\n",
       "        <td>34.9</td>\n",
       "    </tr>\n",
       "    <tr>\n",
       "        <td>Hip Hop/Rap</td>\n",
       "        <td>20</td>\n",
       "        <td>1.9</td>\n",
       "        <td>60.6</td>\n",
       "    </tr>\n",
       "    <tr>\n",
       "        <td>Jazz</td>\n",
       "        <td>14</td>\n",
       "        <td>1.33</td>\n",
       "        <td>11.6</td>\n",
       "    </tr>\n",
       "    <tr>\n",
       "        <td>Easy Listening</td>\n",
       "        <td>13</td>\n",
       "        <td>1.24</td>\n",
       "        <td>17.6</td>\n",
       "    </tr>\n",
       "    <tr>\n",
       "        <td>Reggae</td>\n",
       "        <td>6</td>\n",
       "        <td>0.57</td>\n",
       "        <td>17.1</td>\n",
       "    </tr>\n",
       "    <tr>\n",
       "        <td>Electronica/Dance</td>\n",
       "        <td>5</td>\n",
       "        <td>0.48</td>\n",
       "        <td>9.1</td>\n",
       "    </tr>\n",
       "    <tr>\n",
       "        <td>Classical</td>\n",
       "        <td>4</td>\n",
       "        <td>0.38</td>\n",
       "        <td>8.5</td>\n",
       "    </tr>\n",
       "    <tr>\n",
       "        <td>Heavy Metal</td>\n",
       "        <td>3</td>\n",
       "        <td>0.29</td>\n",
       "        <td>37.5</td>\n",
       "    </tr>\n",
       "    <tr>\n",
       "        <td>Soundtrack</td>\n",
       "        <td>2</td>\n",
       "        <td>0.19</td>\n",
       "        <td>40.0</td>\n",
       "    </tr>\n",
       "    <tr>\n",
       "        <td>TV Shows</td>\n",
       "        <td>1</td>\n",
       "        <td>0.1</td>\n",
       "        <td>50.0</td>\n",
       "    </tr>\n",
       "</table>"
      ],
      "text/plain": [
       "[('Rock', 561, 53.38, 21.3),\n",
       " ('Alternative & Punk', 130, 12.37, 26.4),\n",
       " ('Metal', 124, 11.8, 20.0),\n",
       " ('R&B/Soul', 53, 5.04, 33.3),\n",
       " ('Blues', 36, 3.43, 29.0),\n",
       " ('Alternative', 35, 3.33, 29.9),\n",
       " ('Latin', 22, 2.09, 13.2),\n",
       " ('Pop', 22, 2.09, 34.9),\n",
       " ('Hip Hop/Rap', 20, 1.9, 60.6),\n",
       " ('Jazz', 14, 1.33, 11.6),\n",
       " ('Easy Listening', 13, 1.24, 17.6),\n",
       " ('Reggae', 6, 0.57, 17.1),\n",
       " ('Electronica/Dance', 5, 0.48, 9.1),\n",
       " ('Classical', 4, 0.38, 8.5),\n",
       " ('Heavy Metal', 3, 0.29, 37.5),\n",
       " ('Soundtrack', 2, 0.19, 40.0),\n",
       " ('TV Shows', 1, 0.1, 50.0)]"
      ]
     },
     "execution_count": 6,
     "metadata": {},
     "output_type": "execute_result"
    }
   ],
   "source": [
    "%%sql\n",
    "WITH \n",
    "invoice_line_genre_customer AS (\n",
    "    SELECT \n",
    "        il.invoice_line_id,\n",
    "        il.track_id,\n",
    "        g.genre_id, \n",
    "        g.name genre_name, \n",
    "        c.country customer_country\n",
    "    FROM invoice_line il\n",
    "    INNER JOIN track t ON t.track_id = il.track_id\n",
    "    INNER JOIN genre g ON g.genre_id = t.genre_id\n",
    "    INNER JOIN invoice i ON i.invoice_id = il.invoice_id\n",
    "    INNER JOIN customer c ON c.customer_id = i.customer_id\n",
    "),\n",
    "genre_tracks_sold AS (\n",
    "    SELECT \n",
    "        ilg.genre_id,\n",
    "        ilg.genre_name, \n",
    "        COUNT(ilg.invoice_line_id) tracks_sold\n",
    "    FROM invoice_line_genre_customer ilg\n",
    "    GROUP BY ilg.genre_id, ilg.genre_name\n",
    "),\n",
    "genre_tracks_sold_usa AS (\n",
    "    SELECT \n",
    "        ilg.genre_id, \n",
    "        ilg.genre_name, \n",
    "        COUNT(ilg.invoice_line_id) tracks_sold_usa\n",
    "    FROM invoice_line_genre_customer ilg\n",
    "    WHERE ilg.customer_country = 'USA'\n",
    "    GROUP BY ilg.genre_id, ilg.genre_name\n",
    ")\n",
    "\n",
    "SELECT \n",
    "    usa.genre_name, \n",
    "    usa.tracks_sold_usa,\n",
    "    ROUND(CAST(usa.tracks_sold_usa AS FLOAT) * 100 / (\n",
    "            SELECT SUM(tracks_sold_usa) \n",
    "            FROM genre_tracks_sold_usa\n",
    "        ), 2) tracks_sold_usa_pct,\n",
    "    ROUND(CAST(usa.tracks_sold_usa AS FLOAT) * 100 / world.tracks_sold, 1) tracks_sold_usa_genre_pct\n",
    "    \n",
    "FROM genre_tracks_sold_usa usa\n",
    "INNER JOIN genre_tracks_sold world ON world.genre_id = usa.genre_id\n",
    "GROUP BY 1\n",
    "ORDER BY tracks_sold_usa DESC"
   ]
  },
  {
   "cell_type": "markdown",
   "metadata": {},
   "source": [
    "### Interpretation"
   ]
  },
  {
   "cell_type": "markdown",
   "metadata": {},
   "source": [
    "Of the new artist entries *Red Tone* should appeal to many Americans as the genre **Alternative & Punk** is one of the top-selling genres in the USA. The risk of most sales attributing to the *Alternative* in *Alternative & Punk* is mitigated by the fact that *Alternative* also exists as its own genre entry.\n",
    "\n",
    "More than every second **Hip Hop/Rap** track sold has a buyer from the USA (60.6%). *Hip Hop/Rap* tracks sold in the USA, however, make up only about 2% of all track sales which is only marginally less than *Pop* genre's sales with only 35% American buyers. *Regal* should therefore make an interesting addition to the store tailored to American buyers.\n",
    "\n",
    "About 60% more **Blues** tracks are sold to American buyers than *Hip Hop/Rap* and *Pop* tracks therefore *Slim Jim Bites* should be included in our store.\n",
    "\n",
    "**Pop** music neither has high sale numbers nor a high share of American buyers on our store which makes *Meteor and the Girls* the least favorable pick.\n",
    "\n",
    "**Recommended picks**\n",
    "1. *Red Tone*\n",
    "2. *Slim Jim Bites*\n",
    "3. *Regal*\n"
   ]
  },
  {
   "cell_type": "markdown",
   "metadata": {},
   "source": [
    "## Sales Support Performance"
   ]
  },
  {
   "cell_type": "code",
   "execution_count": 36,
   "metadata": {
    "collapsed": false,
    "scrolled": true
   },
   "outputs": [
    {
     "name": "stdout",
     "output_type": "stream",
     "text": [
      "Done.\n"
     ]
    },
    {
     "data": {
      "text/html": [
       "<table>\n",
       "    <tr>\n",
       "        <th>support_rep_name</th>\n",
       "        <th>assigned_customers</th>\n",
       "        <th>customer_avg_value</th>\n",
       "        <th>hire_date</th>\n",
       "        <th>total_sales</th>\n",
       "    </tr>\n",
       "    <tr>\n",
       "        <td>Jane Peacock</td>\n",
       "        <td>21</td>\n",
       "        <td>82.45</td>\n",
       "        <td>2017-04-01</td>\n",
       "        <td>1731.51</td>\n",
       "    </tr>\n",
       "    <tr>\n",
       "        <td>Margaret Park</td>\n",
       "        <td>20</td>\n",
       "        <td>79.2</td>\n",
       "        <td>2017-05-03</td>\n",
       "        <td>1584.0</td>\n",
       "    </tr>\n",
       "    <tr>\n",
       "        <td>Steve Johnson</td>\n",
       "        <td>18</td>\n",
       "        <td>77.44</td>\n",
       "        <td>2017-10-17</td>\n",
       "        <td>1393.92</td>\n",
       "    </tr>\n",
       "</table>"
      ],
      "text/plain": [
       "[('Jane Peacock', 21, 82.45, '2017-04-01', 1731.51),\n",
       " ('Margaret Park', 20, 79.2, '2017-05-03', 1584.0),\n",
       " ('Steve Johnson', 18, 77.44, '2017-10-17', 1393.92)]"
      ]
     },
     "execution_count": 36,
     "metadata": {},
     "output_type": "execute_result"
    }
   ],
   "source": [
    "%%sql\n",
    "SELECT \n",
    "    e.first_name||' '||e.last_name support_rep_name,\n",
    "    COUNT(DISTINCT c.customer_id) assigned_customers,\n",
    "    ROUND(SUM(i.total) / COUNT(DISTINCT c.customer_id), 2) customer_avg_value,\n",
    "    DATE(e.hire_date) hire_date,\n",
    "    ROUND(SUM(i.total), 2) total_sales\n",
    "FROM customer c\n",
    "INNER JOIN employee e ON e.employee_id = c.support_rep_id\n",
    "INNER JOIN invoice i ON i.customer_id = c.customer_id\n",
    "GROUP BY support_rep_name"
   ]
  },
  {
   "cell_type": "markdown",
   "metadata": {},
   "source": [
    "### Interpretation"
   ]
  },
  {
   "cell_type": "markdown",
   "metadata": {},
   "source": [
    "Measured by the sum total of customer purchases, Jane Peacock who represents the largest number of customers performed best with 1731.51$ worth of customer purchases. Jane also has the highest average purchase value per customer which refutes the notion that total sales are caused by the higher number of customers.  \n",
    "\n",
    "The number of assigned customers as well as the average purchase value per customer increases with the support representatives job tenure."
   ]
  },
  {
   "cell_type": "markdown",
   "metadata": {
    "collapsed": true
   },
   "source": [
    "## Customer Countries"
   ]
  },
  {
   "cell_type": "code",
   "execution_count": 7,
   "metadata": {
    "collapsed": false
   },
   "outputs": [
    {
     "name": "stdout",
     "output_type": "stream",
     "text": [
      "Done.\n"
     ]
    },
    {
     "data": {
      "text/html": [
       "<table>\n",
       "    <tr>\n",
       "        <th>country</th>\n",
       "        <th>customers</th>\n",
       "        <th>value_of_sales</th>\n",
       "        <th>customer_avg_value</th>\n",
       "        <th>order_avg_value</th>\n",
       "    </tr>\n",
       "    <tr>\n",
       "        <td>USA</td>\n",
       "        <td>13</td>\n",
       "        <td>1040.49</td>\n",
       "        <td>80.04</td>\n",
       "        <td>7.94</td>\n",
       "    </tr>\n",
       "    <tr>\n",
       "        <td>Canada</td>\n",
       "        <td>8</td>\n",
       "        <td>535.59</td>\n",
       "        <td>66.95</td>\n",
       "        <td>7.05</td>\n",
       "    </tr>\n",
       "    <tr>\n",
       "        <td>Brazil</td>\n",
       "        <td>5</td>\n",
       "        <td>427.68</td>\n",
       "        <td>85.54</td>\n",
       "        <td>7.01</td>\n",
       "    </tr>\n",
       "    <tr>\n",
       "        <td>France</td>\n",
       "        <td>5</td>\n",
       "        <td>389.07</td>\n",
       "        <td>77.81</td>\n",
       "        <td>7.78</td>\n",
       "    </tr>\n",
       "    <tr>\n",
       "        <td>Germany</td>\n",
       "        <td>4</td>\n",
       "        <td>334.62</td>\n",
       "        <td>83.66</td>\n",
       "        <td>8.16</td>\n",
       "    </tr>\n",
       "    <tr>\n",
       "        <td>Czech Republic</td>\n",
       "        <td>2</td>\n",
       "        <td>273.24</td>\n",
       "        <td>136.62</td>\n",
       "        <td>9.11</td>\n",
       "    </tr>\n",
       "    <tr>\n",
       "        <td>United Kingdom</td>\n",
       "        <td>3</td>\n",
       "        <td>245.52</td>\n",
       "        <td>81.84</td>\n",
       "        <td>8.77</td>\n",
       "    </tr>\n",
       "    <tr>\n",
       "        <td>Portugal</td>\n",
       "        <td>2</td>\n",
       "        <td>185.13</td>\n",
       "        <td>92.57</td>\n",
       "        <td>6.38</td>\n",
       "    </tr>\n",
       "    <tr>\n",
       "        <td>India</td>\n",
       "        <td>2</td>\n",
       "        <td>183.15</td>\n",
       "        <td>91.57</td>\n",
       "        <td>8.72</td>\n",
       "    </tr>\n",
       "    <tr>\n",
       "        <td>Other</td>\n",
       "        <td>15</td>\n",
       "        <td>1094.94</td>\n",
       "        <td>73.0</td>\n",
       "        <td>7.45</td>\n",
       "    </tr>\n",
       "</table>"
      ],
      "text/plain": [
       "[('USA', 13, 1040.49, 80.04, 7.94),\n",
       " ('Canada', 8, 535.59, 66.95, 7.05),\n",
       " ('Brazil', 5, 427.68, 85.54, 7.01),\n",
       " ('France', 5, 389.07, 77.81, 7.78),\n",
       " ('Germany', 4, 334.62, 83.66, 8.16),\n",
       " ('Czech Republic', 2, 273.24, 136.62, 9.11),\n",
       " ('United Kingdom', 3, 245.52, 81.84, 8.77),\n",
       " ('Portugal', 2, 185.13, 92.57, 6.38),\n",
       " ('India', 2, 183.15, 91.57, 8.72),\n",
       " ('Other', 15, 1094.94, 73.0, 7.45)]"
      ]
     },
     "execution_count": 7,
     "metadata": {},
     "output_type": "execute_result"
    }
   ],
   "source": [
    "%%sql\n",
    "WITH \n",
    "invoice_country AS (\n",
    "    SELECT \n",
    "        i.total,\n",
    "        c.customer_id,\n",
    "        c.country country\n",
    "    FROM invoice i\n",
    "    INNER JOIN customer c ON c.customer_id = i.customer_id\n",
    "),\n",
    "country_customer_stats AS (\n",
    "    SELECT \n",
    "        country,\n",
    "        COUNT(DISTINCT customer_id) customers,\n",
    "        SUM(total) value_of_sales, \n",
    "        SUM(total) / COUNT(DISTINCT customer_id) customer_avg_value,\n",
    "        AVG(total) order_avg_value\n",
    "    FROM invoice_country\n",
    "    GROUP BY country\n",
    "),\n",
    "country_customer_stats_other AS (\n",
    "    SELECT\n",
    "        grouping,\n",
    "        SUM(customers) customers,\n",
    "        SUM(value_of_sales) value_of_sales,\n",
    "        AVG(customer_avg_value) customer_avg_value,\n",
    "        AVG(order_avg_value) order_avg_value\n",
    "    FROM (\n",
    "        SELECT *,\n",
    "            CASE\n",
    "                WHEN customers = 1 THEN 'Other'\n",
    "                ELSE country\n",
    "            END AS grouping\n",
    "        FROM country_customer_stats\n",
    "        )\n",
    "    GROUP BY grouping\n",
    ")\n",
    "\n",
    "SELECT \n",
    "    grouping country,\n",
    "    customers,\n",
    "    ROUND(value_of_sales, 2) value_of_sales,\n",
    "    ROUND(customer_avg_value, 2) customer_avg_value,\n",
    "    ROUND(order_avg_value, 2) order_avg_value\n",
    "FROM (\n",
    "    SELECT *,\n",
    "        CASE\n",
    "            WHEN grouping = 'Other' THEN 1\n",
    "            ELSE 0\n",
    "        END AS sort\n",
    "    FROM country_customer_stats_other\n",
    "    )\n",
    "ORDER BY sort, value_of_sales DESC"
   ]
  },
  {
   "cell_type": "markdown",
   "metadata": {
    "collapsed": true
   },
   "source": [
    "### Album vs. Individual Track Purchases"
   ]
  },
  {
   "cell_type": "code",
   "execution_count": null,
   "metadata": {
    "collapsed": true
   },
   "outputs": [],
   "source": [
    "    SELECT \n",
    "        (\n",
    "            SELECT track_id FROM invoice_tracks \n",
    "            EXCEPT \n",
    "            SELECT track_id FROM tracks t WHERE t.album_id = ia.album_id\n",
    "        ) IS NULL\n",
    "        AND\n",
    "        SELECT (\n",
    "            SELECT track_id FROM tracks t WHERE t.album_id = ia.album_id\n",
    "            EXCEPT\n",
    "            ia.track_id\n",
    "        ) IS NULL full_album"
   ]
  },
  {
   "cell_type": "code",
   "execution_count": 91,
   "metadata": {
    "collapsed": false
   },
   "outputs": [
    {
     "name": "stdout",
     "output_type": "stream",
     "text": [
      "Done.\n"
     ]
    },
    {
     "data": {
      "text/html": [
       "<table>\n",
       "    <tr>\n",
       "        <th>order_type</th>\n",
       "        <th>invoices</th>\n",
       "        <th>invoices_pct</th>\n",
       "        <th>total_value</th>\n",
       "        <th>total_value_pct</th>\n",
       "    </tr>\n",
       "    <tr>\n",
       "        <td>Tracks</td>\n",
       "        <td>500</td>\n",
       "        <td>81.43</td>\n",
       "        <td>3248.19</td>\n",
       "        <td>68.97</td>\n",
       "    </tr>\n",
       "    <tr>\n",
       "        <td>Album</td>\n",
       "        <td>114</td>\n",
       "        <td>18.57</td>\n",
       "        <td>1461.24</td>\n",
       "        <td>31.03</td>\n",
       "    </tr>\n",
       "</table>"
      ],
      "text/plain": [
       "[('Tracks', 500, 81.43, 3248.19, 68.97), ('Album', 114, 18.57, 1461.24, 31.03)]"
      ]
     },
     "execution_count": 91,
     "metadata": {},
     "output_type": "execute_result"
    }
   ],
   "source": [
    "%%sql\n",
    "WITH\n",
    "invoice_tracks AS (\n",
    "    SELECT i.invoice_id, t.track_id, a.album_id\n",
    "    FROM invoice i\n",
    "    INNER JOIN invoice_line il ON il.invoice_id = i.invoice_id\n",
    "    INNER JOIN track t ON t.track_id = il.track_id\n",
    "    INNER JOIN album a ON a.album_id = t.album_id\n",
    "),\n",
    "invoice_full_album AS (\n",
    "    SELECT \n",
    "        invoice_id,\n",
    "        (\n",
    "            SELECT i.total\n",
    "            FROM invoice i\n",
    "            WHERE i.invoice_id = it.invoice_id\n",
    "        ) invoice_total,\n",
    "        (\n",
    "            SELECT track_id FROM invoice_tracks it2 WHERE it2.invoice_id = it.invoice_id\n",
    "            EXCEPT\n",
    "            SELECT track_id FROM track t WHERE t.album_id = it.album_id\n",
    "        ) IS NULL \n",
    "        AND\n",
    "        (\n",
    "            SELECT track_id FROM track t WHERE t.album_id = it.album_id\n",
    "            EXCEPT\n",
    "            SELECT track_id FROM invoice_tracks it2 WHERE it2.invoice_id = it.invoice_id\n",
    "        ) IS NULL full_album\n",
    "    FROM invoice_tracks it\n",
    "    GROUP BY invoice_id\n",
    ")\n",
    "SELECT\n",
    "    CASE\n",
    "        WHEN ifa.full_album = 1 THEN 'Album'\n",
    "        ELSE 'Tracks'\n",
    "    END order_type,\n",
    "    COUNT(*) invoices,\n",
    "    ROUND(CAST(COUNT(*) AS FLOAT) * 100 / (\n",
    "        SELECT COUNT(*)\n",
    "        FROM invoice\n",
    "        ), 2) invoices_pct,\n",
    "    ROUND(SUM(ifa.invoice_total),2) total_value,\n",
    "    ROUND(SUM(ifa.invoice_total) * 100 / (\n",
    "        SELECT SUM(invoice_total)\n",
    "        FROM invoice_full_album\n",
    "        ),2) total_value_pct\n",
    "FROM invoice_full_album ifa\n",
    "GROUP BY ifa.full_album"
   ]
  },
  {
   "cell_type": "markdown",
   "metadata": {},
   "source": [
    "### Interpretation"
   ]
  },
  {
   "cell_type": "markdown",
   "metadata": {},
   "source": [
    "81.5% of purchases are purchases of individual tracks rather than whole albums. These purchases make for 69% of total sales.\n",
    "That means that 31% of total sales still come from whole album purchases.  \n",
    "Further analysis could give insight into which albums were commonly bought in full and provide a basis for a mixed strategy where certain albums are provided in full while for ohters only the most popular tracks are picked.  \n",
    "\n",
    "Currently the "
   ]
  },
  {
   "cell_type": "code",
   "execution_count": null,
   "metadata": {
    "collapsed": true
   },
   "outputs": [],
   "source": []
  }
 ],
 "metadata": {
  "kernelspec": {
   "display_name": "Python 3",
   "language": "python",
   "name": "python3"
  },
  "language_info": {
   "codemirror_mode": {
    "name": "ipython",
    "version": 3
   },
   "file_extension": ".py",
   "mimetype": "text/x-python",
   "name": "python",
   "nbconvert_exporter": "python",
   "pygments_lexer": "ipython3",
   "version": "3.4.3"
  }
 },
 "nbformat": 4,
 "nbformat_minor": 2
}
